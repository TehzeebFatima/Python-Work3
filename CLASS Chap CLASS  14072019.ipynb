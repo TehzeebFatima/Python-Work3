{
 "cells": [
  {
   "cell_type": "markdown",
   "metadata": {},
   "source": [
    "# Object Oriented Programming/ Classes\n"
   ]
  },
  {
   "cell_type": "code",
   "execution_count": 1,
   "metadata": {},
   "outputs": [],
   "source": [
    "# object = instance"
   ]
  },
  {
   "cell_type": "code",
   "execution_count": 4,
   "metadata": {},
   "outputs": [],
   "source": [
    "# First object = template, rest are called Objects. e.g like Chillers in auditorium, the first chilller installed\n",
    "# = template and rest are called objects.\n",
    "# Objects are the copies of Class/ model. e.g the objects follow the class.\n",
    "# if the object is != Class, not considered the copy of given class.\n",
    "# e.g phones of same model i.e iPhonne X may have thousands of copies but all will be same, same size i.e they have class\n",
    "# because they are the objects of same class.\n",
    "# All objectes hae: Priperties and Behavious\n",
    "#  Properties ; color, size,weight etc\n",
    "#  Behavious ; abilities; touch,smell, hear, see- behavious of human. Behaviour of Fan ; on, off, ampere etc\n",
    "# The actions which can be performed = behaviour\n",
    "#  functions start with 'def', class starts with 'class'"
   ]
  },
  {
   "cell_type": "code",
   "execution_count": 28,
   "metadata": {},
   "outputs": [],
   "source": [
    "class Mobile():\n",
    "#     attributes\n",
    "    def __init__(self,brand,color,price,memory,ram):\n",
    "#  all the attributes must be mentioned in def__init__(self,) [two underscore bef and after 'init']\n",
    "        self.mobileBrand = brand       \n",
    "        self.mobileColor = color\n",
    "        self.mobilePrice = price\n",
    "        self.mobileMemory = memory\n",
    "        self.mobileRam = ram\n",
    "#         Attributes, in programming term, are called ===> Variables\n",
    "#         Behaviours, in programming term, are called ===> Functions\n",
    "#     Behaviours\n",
    "    def makeCall(self):\n",
    "        print('Mobile is dailing')\n",
    "        \n",
    "    def receiveCall(self):\n",
    "        print('Mobile is calling')\n",
    "        \n",
    "    def messagesend (self):\n",
    "        print ('Mobile is sending a message')\n",
    "        \n",
    "    def messagereceive (self): \n",
    "        print ('Mobile is receiving a message')\n",
    "#     attributes should be general\n",
    "  \n",
    "    "
   ]
  },
  {
   "cell_type": "code",
   "execution_count": 29,
   "metadata": {},
   "outputs": [],
   "source": [
    "Mobile1 = Mobile('Nokia', 'black', 10000, '16GB', '2GB')\n",
    "# copies  class name\n"
   ]
  },
  {
   "cell_type": "code",
   "execution_count": 30,
   "metadata": {},
   "outputs": [
    {
     "ename": "TypeError",
     "evalue": "__init__() missing 1 required positional argument: 'ram'",
     "output_type": "error",
     "traceback": [
      "\u001b[0;31m---------------------------------------------------------------------------\u001b[0m",
      "\u001b[0;31mTypeError\u001b[0m                                 Traceback (most recent call last)",
      "\u001b[0;32m<ipython-input-30-68eebae5d2e7>\u001b[0m in \u001b[0;36m<module>\u001b[0;34m()\u001b[0m\n\u001b[0;32m----> 1\u001b[0;31m \u001b[0mmobile2\u001b[0m \u001b[0;34m=\u001b[0m \u001b[0mMobile\u001b[0m\u001b[0;34m(\u001b[0m\u001b[0;34m'Nokia'\u001b[0m\u001b[0;34m,\u001b[0m \u001b[0;34m'Blue'\u001b[0m\u001b[0;34m,\u001b[0m \u001b[0;34m'16GB'\u001b[0m\u001b[0;34m,\u001b[0m \u001b[0;34m'2GB'\u001b[0m\u001b[0;34m)\u001b[0m\u001b[0;34m\u001b[0m\u001b[0;34m\u001b[0m\u001b[0m\n\u001b[0m",
      "\u001b[0;31mTypeError\u001b[0m: __init__() missing 1 required positional argument: 'ram'"
     ]
    }
   ],
   "source": [
    "mobile2 = Mobile('Nokia', 'Blue', '16GB', '2GB')"
   ]
  },
  {
   "cell_type": "code",
   "execution_count": 31,
   "metadata": {},
   "outputs": [],
   "source": [
    "# any value can be ignored only if default value is given, i.e in above case 'price'\n",
    "# default value for price = price='free'"
   ]
  },
  {
   "cell_type": "code",
   "execution_count": 40,
   "metadata": {},
   "outputs": [],
   "source": [
    "class Mobile():\n",
    "    def __init__(self,brand,color,memory,ram,price='free'):\n",
    "        self.mobileBrand = brand       \n",
    "        self.mobileColor = color\n",
    "        self.mobilePrice = price\n",
    "        self.mobileMemory = memory\n",
    "        self.mobileRam = ram\n",
    "    def makeCall(self):\n",
    "        print('Mobile is dailing')\n",
    "        \n",
    "    def receiveCall(self):\n",
    "        print('Mobile is calling')\n",
    "        \n",
    "    def messagesend (self):\n",
    "        print ('Mobile is sending a message')\n",
    "        \n",
    "    def messagereceive (self): \n",
    "        print ('Mobile is receiving a message')\n"
   ]
  },
  {
   "cell_type": "code",
   "execution_count": 41,
   "metadata": {},
   "outputs": [],
   "source": [
    "mobile2 = Mobile ('Nokia', 'Blue', '16GB', '2GB' )"
   ]
  },
  {
   "cell_type": "code",
   "execution_count": 42,
   "metadata": {},
   "outputs": [],
   "source": [
    "mobile3 = Mobile ('Nokia', 'Grey', '16GB', '2GB', 10000)"
   ]
  },
  {
   "cell_type": "code",
   "execution_count": 43,
   "metadata": {},
   "outputs": [],
   "source": [
    "# whenever an object is created out of a class, every object has access to behaviours and attributes of respeccted class."
   ]
  },
  {
   "cell_type": "code",
   "execution_count": 37,
   "metadata": {},
   "outputs": [
    {
     "data": {
      "text/plain": [
       "'Blue'"
      ]
     },
     "execution_count": 37,
     "metadata": {},
     "output_type": "execute_result"
    }
   ],
   "source": [
    "mobile2.mobileColor"
   ]
  },
  {
   "cell_type": "code",
   "execution_count": 38,
   "metadata": {},
   "outputs": [
    {
     "data": {
      "text/plain": [
       "'Nokia'"
      ]
     },
     "execution_count": 38,
     "metadata": {},
     "output_type": "execute_result"
    }
   ],
   "source": [
    "mobile3.mobileBrand"
   ]
  },
  {
   "cell_type": "code",
   "execution_count": 44,
   "metadata": {},
   "outputs": [
    {
     "data": {
      "text/plain": [
       "'2GB'"
      ]
     },
     "execution_count": 44,
     "metadata": {},
     "output_type": "execute_result"
    }
   ],
   "source": [
    "mobile2.mobileRam\n"
   ]
  },
  {
   "cell_type": "code",
   "execution_count": 45,
   "metadata": {},
   "outputs": [],
   "source": [
    "#  behaviour carries '()'"
   ]
  },
  {
   "cell_type": "code",
   "execution_count": 50,
   "metadata": {},
   "outputs": [
    {
     "name": "stdout",
     "output_type": "stream",
     "text": [
      "Mobile is receiving a message\n"
     ]
    }
   ],
   "source": [
    "mobile3.messagereceive()"
   ]
  },
  {
   "cell_type": "code",
   "execution_count": 52,
   "metadata": {},
   "outputs": [
    {
     "name": "stdout",
     "output_type": "stream",
     "text": [
      "Mobile is calling\n"
     ]
    }
   ],
   "source": [
    "mobile2.receiveCall()"
   ]
  },
  {
   "cell_type": "code",
   "execution_count": 55,
   "metadata": {},
   "outputs": [
    {
     "name": "stdout",
     "output_type": "stream",
     "text": [
      "Mobile is dailing\n"
     ]
    }
   ],
   "source": [
    "mobile3.makeCall()"
   ]
  },
  {
   "cell_type": "code",
   "execution_count": 56,
   "metadata": {},
   "outputs": [],
   "source": [
    "# SELF creates separate copies of each variable (attribute) everytime mobile copy was made.\n",
    "# Usually when new value is assigned, the prior one is overwritten i.e color in this case; Black, Blue.\n",
    "# mobile1, mobile2, moblie3 have varing colors and the values are not ovewritten"
   ]
  },
  {
   "cell_type": "code",
   "execution_count": 57,
   "metadata": {},
   "outputs": [],
   "source": [
    "class Mobile():\n",
    "    def __init__(self,brand,color,memory,ram,price='free'):\n",
    "        self.mobileBrand = brand       \n",
    "        self.mobileColor = color\n",
    "        self.mobilePrice = price\n",
    "        self.mobileMemory = memory\n",
    "        self.mobileRam = ram\n",
    "    def makeCall(self):\n",
    "        print('Mobile is dailing')\n",
    "        \n",
    "    def receiveCall(self):\n",
    "        print('Mobile is calling')\n",
    "   "
   ]
  },
  {
   "cell_type": "code",
   "execution_count": 59,
   "metadata": {},
   "outputs": [],
   "source": [
    "mobile1 = Mobile('Nokia', 'Black', '16GB', '2GB', 10000)\n",
    "mobile2 = Mobile ('iPhone', 'Silver', '16GB', '2GB', 25000)"
   ]
  },
  {
   "cell_type": "code",
   "execution_count": 60,
   "metadata": {},
   "outputs": [
    {
     "data": {
      "text/plain": [
       "'Nokia'"
      ]
     },
     "execution_count": 60,
     "metadata": {},
     "output_type": "execute_result"
    }
   ],
   "source": [
    "mobile1.mobileBrand"
   ]
  },
  {
   "cell_type": "code",
   "execution_count": 61,
   "metadata": {},
   "outputs": [
    {
     "data": {
      "text/plain": [
       "'iPhone'"
      ]
     },
     "execution_count": 61,
     "metadata": {},
     "output_type": "execute_result"
    }
   ],
   "source": [
    "mobile2.mobileBrand"
   ]
  },
  {
   "cell_type": "code",
   "execution_count": 62,
   "metadata": {},
   "outputs": [],
   "source": [
    "# The brands (in given case) are not over-written but rather assigned to the respected copy, sthis is because of 'Self'"
   ]
  },
  {
   "cell_type": "code",
   "execution_count": 77,
   "metadata": {},
   "outputs": [],
   "source": [
    "class Student():\n",
    "    def __init__(self, name, gender, course, email):\n",
    "        self.name = name\n",
    "        self.gender = gender\n",
    "        self.course = course\n",
    "        self.email = email\n",
    "        self.GPA = 0\n",
    "    def study(self):\n",
    "        print (f'{self.name} is studying.' )\n",
    "    def exam (self):\n",
    "        print (f'{self.name} is appearing in exam. ')\n",
    "    def submitAssignment (self):\n",
    "        print (f'{self.name} is submitting an Assignment. ')"
   ]
  },
  {
   "cell_type": "code",
   "execution_count": 78,
   "metadata": {},
   "outputs": [],
   "source": [
    "s1 = Student ('Tehzeeb', 'F', 'AI', 'tahzeebfatima7@gmail.com')"
   ]
  },
  {
   "cell_type": "code",
   "execution_count": 79,
   "metadata": {},
   "outputs": [],
   "source": [
    "s2 = Student ('Urooj', 'F', 'EE', 'furooj123@gmail.com')"
   ]
  },
  {
   "cell_type": "code",
   "execution_count": 80,
   "metadata": {},
   "outputs": [],
   "source": [
    "s3 = Student ('Hiba', 'F', \"Econ\", 'hibaaltaf110@gmail.com')"
   ]
  },
  {
   "cell_type": "code",
   "execution_count": 81,
   "metadata": {},
   "outputs": [
    {
     "data": {
      "text/plain": [
       "'Tehzeeb'"
      ]
     },
     "execution_count": 81,
     "metadata": {},
     "output_type": "execute_result"
    }
   ],
   "source": [
    "s1.name\n"
   ]
  },
  {
   "cell_type": "code",
   "execution_count": 82,
   "metadata": {},
   "outputs": [
    {
     "data": {
      "text/plain": [
       "'Hiba'"
      ]
     },
     "execution_count": 82,
     "metadata": {},
     "output_type": "execute_result"
    }
   ],
   "source": [
    "s3.name\n",
    "\n"
   ]
  },
  {
   "cell_type": "code",
   "execution_count": 83,
   "metadata": {},
   "outputs": [
    {
     "data": {
      "text/plain": [
       "'Urooj'"
      ]
     },
     "execution_count": 83,
     "metadata": {},
     "output_type": "execute_result"
    }
   ],
   "source": [
    "s2.name"
   ]
  },
  {
   "cell_type": "code",
   "execution_count": 84,
   "metadata": {},
   "outputs": [
    {
     "data": {
      "text/plain": [
       "'furooj123@gmail.com'"
      ]
     },
     "execution_count": 84,
     "metadata": {},
     "output_type": "execute_result"
    }
   ],
   "source": [
    "s2.email"
   ]
  },
  {
   "cell_type": "code",
   "execution_count": 85,
   "metadata": {},
   "outputs": [
    {
     "data": {
      "text/plain": [
       "'hibaaltaf110@gmail.com'"
      ]
     },
     "execution_count": 85,
     "metadata": {},
     "output_type": "execute_result"
    }
   ],
   "source": [
    "s3.email"
   ]
  },
  {
   "cell_type": "code",
   "execution_count": 86,
   "metadata": {},
   "outputs": [
    {
     "data": {
      "text/plain": [
       "'tahzeebfatima7@gmail.com'"
      ]
     },
     "execution_count": 86,
     "metadata": {},
     "output_type": "execute_result"
    }
   ],
   "source": [
    "s1.email"
   ]
  },
  {
   "cell_type": "code",
   "execution_count": 88,
   "metadata": {},
   "outputs": [],
   "source": [
    "# all mandatory attributes kept in __init__\n",
    "# for all variables not mandatory create self.(respected variable) '= 0'\n",
    "#  gpa in above given case"
   ]
  },
  {
   "cell_type": "code",
   "execution_count": 89,
   "metadata": {},
   "outputs": [
    {
     "data": {
      "text/plain": [
       "0"
      ]
     },
     "execution_count": 89,
     "metadata": {},
     "output_type": "execute_result"
    }
   ],
   "source": [
    "s2.GPA"
   ]
  },
  {
   "cell_type": "code",
   "execution_count": 90,
   "metadata": {},
   "outputs": [],
   "source": [
    "s2.GPA = 3.2"
   ]
  },
  {
   "cell_type": "code",
   "execution_count": 91,
   "metadata": {},
   "outputs": [
    {
     "data": {
      "text/plain": [
       "3.2"
      ]
     },
     "execution_count": 91,
     "metadata": {},
     "output_type": "execute_result"
    }
   ],
   "source": [
    "s2.GPA"
   ]
  },
  {
   "cell_type": "markdown",
   "metadata": {},
   "source": [
    "# Updating a value of Attribute via Function\n"
   ]
  },
  {
   "cell_type": "code",
   "execution_count": 110,
   "metadata": {},
   "outputs": [],
   "source": [
    "class Student():\n",
    "    def __init__(self, name, gender, course, email, gpa):\n",
    "        self.name = name\n",
    "        self.gender = gender\n",
    "        self.course = course\n",
    "        self.email = email\n",
    "        self.GPA = 0\n",
    "        \n",
    "    def getGPA(self):\n",
    "        print(f'The GPA of {self.name} is {self.GPA}')\n",
    "    def setGPA(self, newGPA):\n",
    "        self.GPA = newGPA\n",
    "    \n",
    "    \n",
    "    def study(self):\n",
    "        print (f'{self.name} is studying.' )\n",
    "    def exam (self):\n",
    "        print (f'{self.name} is appearing in exam. ')\n",
    "    def submitAssignment (self):\n",
    "        print (f'{self.name} is submitting an Assignment. ')"
   ]
  },
  {
   "cell_type": "code",
   "execution_count": 114,
   "metadata": {},
   "outputs": [],
   "source": [
    "s1 = Student ('AB', \"F\", 'AI', 'abc@cd.com', '3.2')"
   ]
  },
  {
   "cell_type": "code",
   "execution_count": 115,
   "metadata": {},
   "outputs": [
    {
     "name": "stdout",
     "output_type": "stream",
     "text": [
      "The GPA of AB is 0\n"
     ]
    }
   ],
   "source": [
    "s1.getGPA()"
   ]
  },
  {
   "cell_type": "markdown",
   "metadata": {},
   "source": [
    "# Inheritance"
   ]
  },
  {
   "cell_type": "markdown",
   "metadata": {},
   "source": [
    "Purpose of inheritace is the code reuse ability"
   ]
  },
  {
   "cell_type": "code",
   "execution_count": 123,
   "metadata": {},
   "outputs": [],
   "source": [
    "class SmartMobile (Mobile):\n",
    "    def __init__(self, brand, color, price, memory, ram):\n",
    "        super(). __init__(brand, color, price, memory, ram)\n",
    "        self.battery = '10amp'\n",
    "    def camera(self):\n",
    "        print ('Smart Camera is ON')\n",
    "    def pressKeyPad(self):\n",
    "        print ('There is no keypad in smart phone.')\n",
    "# in this case, mobile claa = Parent class, smart mobile = child class"
   ]
  },
  {
   "cell_type": "code",
   "execution_count": 124,
   "metadata": {},
   "outputs": [],
   "source": [
    "sm1 = SmartMobile ('Nokia', 'Black', 5000, '32GB', '2GB')"
   ]
  },
  {
   "cell_type": "code",
   "execution_count": null,
   "metadata": {},
   "outputs": [],
   "source": []
  },
  {
   "cell_type": "code",
   "execution_count": null,
   "metadata": {},
   "outputs": [],
   "source": []
  }
 ],
 "metadata": {
  "kernelspec": {
   "display_name": "Python 3",
   "language": "python",
   "name": "python3"
  },
  "language_info": {
   "codemirror_mode": {
    "name": "ipython",
    "version": 3
   },
   "file_extension": ".py",
   "mimetype": "text/x-python",
   "name": "python",
   "nbconvert_exporter": "python",
   "pygments_lexer": "ipython3",
   "version": "3.7.3"
  }
 },
 "nbformat": 4,
 "nbformat_minor": 2
}
