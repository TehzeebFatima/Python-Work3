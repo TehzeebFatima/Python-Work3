{
 "cells": [
  {
   "cell_type": "markdown",
   "metadata": {},
   "source": [
    "# Error and Exception Handling"
   ]
  },
  {
   "cell_type": "code",
   "execution_count": 1,
   "metadata": {},
   "outputs": [
    {
     "name": "stdout",
     "output_type": "stream",
     "text": [
      "Enter a number: 22\n",
      "Enter a number:22\n",
      "1.0\n"
     ]
    }
   ],
   "source": [
    "a = int(input(\"Enter a number: \"))\n",
    "b = int(input(\"Enter a number:\"))\n",
    "try:\n",
    "    c = a/b\n",
    "    print (c)\n",
    "except ZeroDivisionError:\n",
    "    print(\"Exception is caught ZeroDivisionError\")"
   ]
  },
  {
   "cell_type": "code",
   "execution_count": 2,
   "metadata": {},
   "outputs": [],
   "source": [
    "#  any blocked expected to bring error is put in \"try\" >>>> Zero division\n",
    "# The error in try is printed in except. \n",
    "#  in maths = any num cannot be / by 0 or its called infinity.. In python >> Except\n",
    "# error crashes the code."
   ]
  },
  {
   "cell_type": "code",
   "execution_count": 3,
   "metadata": {},
   "outputs": [],
   "source": [
    "# IndexError: when value given by user is not present in list. It is a logical error.\n",
    "# In order to prevent code from error (where expected), the code is given in \"try\" block.\n",
    "#  Try>> is like if else. If error generated> Except block will execute like else in 'if else' case."
   ]
  },
  {
   "cell_type": "code",
   "execution_count": 4,
   "metadata": {},
   "outputs": [
    {
     "name": "stdout",
     "output_type": "stream",
     "text": [
      "Enter a number: 2\n",
      "Enter a number:1\n",
      "2.0\n"
     ]
    }
   ],
   "source": [
    "a = int(input(\"Enter a number: \"))\n",
    "b = int(input(\"Enter a number:\"))\n",
    "try:\n",
    "    c = a/b\n",
    "    print (c)\n",
    "except ZeroDivisionError:\n",
    "    print(\"Exception is caught ZeroDivisionError\")"
   ]
  },
  {
   "cell_type": "code",
   "execution_count": 5,
   "metadata": {},
   "outputs": [],
   "source": [
    "#  given above, if code executes, answer provided. Else run except block ( like in prior case)\n",
    "#  the error to be handled smust be written in except block.\n",
    "#  the 'code' expected to present error is given in 'try\", in case of error all that should be 'printed' for user\n",
    "#  given in except.\n",
    "#  While coding a programmer doesn't know if user can ask for any value not present in code, if error is generated\n",
    "#  this will be a shame for programmer hence the code shhould be clear enough that the code doesn't crash."
   ]
  },
  {
   "cell_type": "code",
   "execution_count": 6,
   "metadata": {},
   "outputs": [
    {
     "name": "stdout",
     "output_type": "stream",
     "text": [
      "enter a number2\n",
      "enter a number0\n",
      "Helo Helo\n"
     ]
    }
   ],
   "source": [
    "a = int(input(\"enter a number\"))\n",
    "b = int(input('enter a number'))\n",
    "try:\n",
    "    c = a/b\n",
    "    \n",
    "    print(c)\n",
    "except:\n",
    "    print('Helo Helo')"
   ]
  },
  {
   "cell_type": "code",
   "execution_count": 7,
   "metadata": {},
   "outputs": [
    {
     "name": "stdout",
     "output_type": "stream",
     "text": [
      "Error!!\n"
     ]
    }
   ],
   "source": [
    "a = [1, 2, 3]\n",
    "try:\n",
    "    print (a[8])\n",
    "except:\n",
    "    print (\"Error!!\")"
   ]
  },
  {
   "cell_type": "code",
   "execution_count": 8,
   "metadata": {},
   "outputs": [],
   "source": [
    "#  Q: still after using try except the code is not running and the same happens in error case then why this used?\n",
    "#  A: In this case, the application/ code runs smoothly, no code is crashed."
   ]
  },
  {
   "cell_type": "code",
   "execution_count": 9,
   "metadata": {},
   "outputs": [],
   "source": [
    "#  A general class of exception is used. If speific error is to be mentioned, the code may contain hundreds of\n",
    "#  exeption on grounds that there are a number of types of error/ exceptiion that a user can mention, if given \n",
    "#  free hand."
   ]
  },
  {
   "cell_type": "code",
   "execution_count": 10,
   "metadata": {},
   "outputs": [
    {
     "name": "stdout",
     "output_type": "stream",
     "text": [
      "Enter a number0\n",
      "Enter a number0\n",
      "Exception is caught\n"
     ]
    }
   ],
   "source": [
    "d = []\n",
    "try:\n",
    "    a = int(input(\"Enter a number\"))\n",
    "    b = int(input('Enter a number'))\n",
    "    c = a/b\n",
    "    e = d[5]\n",
    "except:         # NO error type explained. Kept general.\n",
    "    print (\"Exception is caught\")\n",
    "else:\n",
    "    print(c)\n",
    "#     WHen exception is not caught, print else block."
   ]
  },
  {
   "cell_type": "code",
   "execution_count": 11,
   "metadata": {},
   "outputs": [
    {
     "name": "stdout",
     "output_type": "stream",
     "text": [
      "Enter a number2\n",
      "Enter a number5\n",
      "Handled error ==list index out of range\n"
     ]
    }
   ],
   "source": [
    "d = []\n",
    "try:\n",
    "    a = int(input(\"Enter a number\"))\n",
    "    b = int(input('Enter a number'))\n",
    "    c = a/b\n",
    "    ee = d[5]\n",
    "except Exception as e:        #Exception is a python class for all the exceptions in python.\n",
    "    print (\"Handled error ==\" +str(e))\n",
    "else:\n",
    "    print(c)\n",
    "    print(\"Hello Wrold\")\n",
    "# Exception used> when programmer wants user to know the kind of error he's made.\n",
    "#  except syntax errors rest are handled, Syntax error cannot be handled otherwise the user evenafter makingmistakes\n",
    "#  would run the code.\n",
    "#  Exceptions are the defined class of exception in python."
   ]
  },
  {
   "cell_type": "code",
   "execution_count": 12,
   "metadata": {},
   "outputs": [],
   "source": [
    "#  If a program asks user to mention his numbers in exam out of 100 and the user mentions 101 then what?\n"
   ]
  },
  {
   "cell_type": "code",
   "execution_count": 13,
   "metadata": {},
   "outputs": [],
   "source": [
    "#  finally; block is executed no matter what try, except or else has, finally will run.\n",
    "#  the mandatory things are kept in finally."
   ]
  },
  {
   "cell_type": "code",
   "execution_count": 15,
   "metadata": {},
   "outputs": [
    {
     "name": "stdout",
     "output_type": "stream",
     "text": [
      "Enter a number2\n",
      "Enter a number\n",
      "Exception is caught\n",
      "finally will always run.\n"
     ]
    }
   ],
   "source": [
    "d = []\n",
    "try:\n",
    "    a = int(input(\"Enter a number\"))\n",
    "    b = int(input('Enter a number'))\n",
    "    c = a/b\n",
    "    e = d[5]\n",
    "except:\n",
    "    print (\"Exception is caught\")\n",
    "else:\n",
    "    print(c)\n",
    "finally:\n",
    "    print(\"finally will always run.\")\n"
   ]
  },
  {
   "cell_type": "code",
   "execution_count": 18,
   "metadata": {},
   "outputs": [],
   "source": [
    "class Student():\n",
    "    def __init__(self, name, age):\n",
    "        if age> 80 or age < 16:\n",
    "            raise Exception(\"Age cannot be >80 and <16\")\n",
    "        self.name = name\n",
    "        self.age = age\n",
    "#     raise is used in conditional cases. i.e 'if' used hence if 'if' condition caught, exception is raised.\n",
    "#  exception is just raised, not handled yet."
   ]
  },
  {
   "cell_type": "code",
   "execution_count": 17,
   "metadata": {},
   "outputs": [
    {
     "name": "stdout",
     "output_type": "stream",
     "text": [
      "Enter student age: 3\n"
     ]
    },
    {
     "ename": "Exception",
     "evalue": "Age cannot be >80 and <16",
     "output_type": "error",
     "traceback": [
      "\u001b[0;31m---------------------------------------------------------------------------\u001b[0m",
      "\u001b[0;31mException\u001b[0m                                 Traceback (most recent call last)",
      "\u001b[0;32m<ipython-input-17-cde78147b4a7>\u001b[0m in \u001b[0;36m<module>\u001b[0;34m()\u001b[0m\n\u001b[1;32m      1\u001b[0m \u001b[0mage\u001b[0m \u001b[0;34m=\u001b[0m \u001b[0mint\u001b[0m\u001b[0;34m(\u001b[0m\u001b[0minput\u001b[0m\u001b[0;34m(\u001b[0m\u001b[0;34m'Enter student age: '\u001b[0m\u001b[0;34m)\u001b[0m\u001b[0;34m)\u001b[0m\u001b[0;34m\u001b[0m\u001b[0;34m\u001b[0m\u001b[0m\n\u001b[1;32m      2\u001b[0m \u001b[0;34m\u001b[0m\u001b[0m\n\u001b[0;32m----> 3\u001b[0;31m \u001b[0mst\u001b[0m \u001b[0;34m=\u001b[0m \u001b[0mStudent\u001b[0m\u001b[0;34m(\u001b[0m\u001b[0;34m\"Ali\"\u001b[0m\u001b[0;34m,\u001b[0m \u001b[0mage\u001b[0m\u001b[0;34m)\u001b[0m\u001b[0;34m\u001b[0m\u001b[0;34m\u001b[0m\u001b[0m\n\u001b[0m\u001b[1;32m      4\u001b[0m \u001b[0;34m\u001b[0m\u001b[0m\n\u001b[1;32m      5\u001b[0m \u001b[0mprint\u001b[0m\u001b[0;34m(\u001b[0m\u001b[0mst\u001b[0m\u001b[0;34m.\u001b[0m\u001b[0mage\u001b[0m\u001b[0;34m)\u001b[0m\u001b[0;34m\u001b[0m\u001b[0;34m\u001b[0m\u001b[0m\n",
      "\u001b[0;32m<ipython-input-16-ec3d51b65f1d>\u001b[0m in \u001b[0;36m__init__\u001b[0;34m(self, name, age)\u001b[0m\n\u001b[1;32m      2\u001b[0m     \u001b[0;32mdef\u001b[0m \u001b[0m__init__\u001b[0m\u001b[0;34m(\u001b[0m\u001b[0mself\u001b[0m\u001b[0;34m,\u001b[0m \u001b[0mname\u001b[0m\u001b[0;34m,\u001b[0m \u001b[0mage\u001b[0m\u001b[0;34m)\u001b[0m\u001b[0;34m:\u001b[0m\u001b[0;34m\u001b[0m\u001b[0;34m\u001b[0m\u001b[0m\n\u001b[1;32m      3\u001b[0m         \u001b[0;32mif\u001b[0m \u001b[0mage\u001b[0m\u001b[0;34m>\u001b[0m \u001b[0;36m80\u001b[0m \u001b[0;32mor\u001b[0m \u001b[0mage\u001b[0m \u001b[0;34m<\u001b[0m \u001b[0;36m16\u001b[0m\u001b[0;34m:\u001b[0m\u001b[0;34m\u001b[0m\u001b[0;34m\u001b[0m\u001b[0m\n\u001b[0;32m----> 4\u001b[0;31m             \u001b[0;32mraise\u001b[0m \u001b[0mException\u001b[0m\u001b[0;34m(\u001b[0m\u001b[0;34m\"Age cannot be >80 and <16\"\u001b[0m\u001b[0;34m)\u001b[0m\u001b[0;34m\u001b[0m\u001b[0;34m\u001b[0m\u001b[0m\n\u001b[0m\u001b[1;32m      5\u001b[0m         \u001b[0mself\u001b[0m\u001b[0;34m.\u001b[0m\u001b[0mname\u001b[0m \u001b[0;34m=\u001b[0m \u001b[0mname\u001b[0m\u001b[0;34m\u001b[0m\u001b[0;34m\u001b[0m\u001b[0m\n\u001b[1;32m      6\u001b[0m         \u001b[0mself\u001b[0m\u001b[0;34m.\u001b[0m\u001b[0mage\u001b[0m \u001b[0;34m=\u001b[0m \u001b[0mage\u001b[0m\u001b[0;34m\u001b[0m\u001b[0;34m\u001b[0m\u001b[0m\n",
      "\u001b[0;31mException\u001b[0m: Age cannot be >80 and <16"
     ]
    }
   ],
   "source": [
    "age = int(input('Enter student age: '))\n",
    "\n",
    "st = Student(\"Ali\", age)\n",
    "\n",
    "print(st.age)"
   ]
  },
  {
   "cell_type": "code",
   "execution_count": 23,
   "metadata": {},
   "outputs": [
    {
     "name": "stdout",
     "output_type": "stream",
     "text": [
      "Enter students age: 98\n",
      "Exception >> Age cannot be >80 and <16\n"
     ]
    }
   ],
   "source": [
    "try:\n",
    "    age = int(input('Enter students age: '))\n",
    "    st = Student(\"Hello\", age)\n",
    "except Exception as e:\n",
    "    print('Exception >> '+str(e))\n",
    "else:\n",
    "    print(st.age)"
   ]
  },
  {
   "cell_type": "code",
   "execution_count": 25,
   "metadata": {},
   "outputs": [
    {
     "name": "stdout",
     "output_type": "stream",
     "text": [
      "#\n",
      "#\n"
     ]
    }
   ],
   "source": [
    "for i in range(1):\n",
    "    print(\"#\")\n",
    "else: \n",
    "    print(\"#\")"
   ]
  },
  {
   "cell_type": "code",
   "execution_count": null,
   "metadata": {},
   "outputs": [],
   "source": []
  }
 ],
 "metadata": {
  "kernelspec": {
   "display_name": "Python 3",
   "language": "python",
   "name": "python3"
  },
  "language_info": {
   "codemirror_mode": {
    "name": "ipython",
    "version": 3
   },
   "file_extension": ".py",
   "mimetype": "text/x-python",
   "name": "python",
   "nbconvert_exporter": "python",
   "pygments_lexer": "ipython3",
   "version": "3.7.3"
  }
 },
 "nbformat": 4,
 "nbformat_minor": 2
}
