{
 "cells": [
  {
   "cell_type": "markdown",
   "metadata": {},
   "source": [
    "# List Comprehension"
   ]
  },
  {
   "cell_type": "code",
   "execution_count": 1,
   "metadata": {},
   "outputs": [],
   "source": [
    "\n",
    "# Rather than using .append and first defining the list and such lenghty code one better goes with the following \n",
    "# comprehensions"
   ]
  },
  {
   "cell_type": "code",
   "execution_count": 2,
   "metadata": {},
   "outputs": [
    {
     "name": "stdout",
     "output_type": "stream",
     "text": [
      "['aa', 'bb', 'cc', 'dd']\n"
     ]
    }
   ],
   "source": [
    "print([i*2 for i in['a', 'b', 'c', 'd']])"
   ]
  },
  {
   "cell_type": "code",
   "execution_count": 3,
   "metadata": {},
   "outputs": [
    {
     "name": "stdout",
     "output_type": "stream",
     "text": [
      "['NasirNasir']\n"
     ]
    }
   ],
   "source": [
    "print([i*2 for i in ['Nasir']])    #if single name given, it will double the characters."
   ]
  },
  {
   "cell_type": "code",
   "execution_count": 4,
   "metadata": {},
   "outputs": [
    {
     "name": "stdout",
     "output_type": "stream",
     "text": [
      "['UroojUrooj', 'HibaHiba', 'NehaNeha']\n"
     ]
    }
   ],
   "source": [
    "print ([i*2 for i in ['Urooj', 'Hiba', 'Neha']])  #if many names given, each name will be printed twice."
   ]
  },
  {
   "cell_type": "markdown",
   "metadata": {},
   "source": [
    "# Error and Exception Handling"
   ]
  },
  {
   "cell_type": "code",
   "execution_count": 5,
   "metadata": {},
   "outputs": [
    {
     "ename": "ZeroDivisionError",
     "evalue": "division by zero",
     "output_type": "error",
     "traceback": [
      "\u001b[0;31m---------------------------------------------------------------------------\u001b[0m",
      "\u001b[0;31mZeroDivisionError\u001b[0m                         Traceback (most recent call last)",
      "\u001b[0;32m<ipython-input-5-625e8516b372>\u001b[0m in \u001b[0;36m<module>\u001b[0;34m()\u001b[0m\n\u001b[0;32m----> 1\u001b[0;31m \u001b[0;36m5\u001b[0m\u001b[0;34m/\u001b[0m\u001b[0;36m0\u001b[0m\u001b[0;34m\u001b[0m\u001b[0;34m\u001b[0m\u001b[0m\n\u001b[0m\u001b[1;32m      2\u001b[0m \u001b[0mprint\u001b[0m\u001b[0;34m(\u001b[0m\u001b[0;34m'Hello'\u001b[0m\u001b[0;34m)\u001b[0m      \u001b[0;31m#zero division error i.e given when any number is /2.\u001b[0m\u001b[0;34m\u001b[0m\u001b[0;34m\u001b[0m\u001b[0m\n",
      "\u001b[0;31mZeroDivisionError\u001b[0m: division by zero"
     ]
    }
   ],
   "source": [
    "5/0\n",
    "print('Hello')      #zero division error i.e given when any number is /2."
   ]
  },
  {
   "cell_type": "code",
   "execution_count": null,
   "metadata": {},
   "outputs": [],
   "source": [
    "5/0\n",
    "  print('Hello') #indentation error.\n"
   ]
  },
  {
   "cell_type": "code",
   "execution_count": null,
   "metadata": {},
   "outputs": [],
   "source": [
    "5/0\n",
    "priiint('Hello') #Name error because priiint is not a word."
   ]
  },
  {
   "cell_type": "code",
   "execution_count": null,
   "metadata": {},
   "outputs": [],
   "source": [
    "#She is a boy >>> no grammatical error but here Logical error is present. Likewise, there are some logical errors in\n",
    "# python\n",
    "# 5/0 is not a syntax error. It is a logical error or also called 'Run time error'\n",
    "#  Compile time>> code is checked in compile time i.e when code is running\n",
    "#  Run time>> Code is checked while running the code. No syntax error at this point but logical error is possible.\n"
   ]
  },
  {
   "cell_type": "code",
   "execution_count": null,
   "metadata": {},
   "outputs": [],
   "source": [
    "# Each line expected to have 'run time error' >> write code in \"try\": and print in \"except\"\n",
    "#  Even after having error in execution, the code will run smoothly.\n",
    "# >>> If error is faced , the \"except\" block will run. If no error 'type' block passes smoothly."
   ]
  },
  {
   "cell_type": "code",
   "execution_count": null,
   "metadata": {},
   "outputs": [],
   "source": [
    "d = [1, 2, 3, 4, 5, 6]         #Mentioned here the numbers we are expecting user to give output from\n",
    "try:\n",
    "    a = int(input('Enter a number: '))\n",
    "    b = int(input('Enter a number: '))\n",
    "    c = a/b\n",
    "    ee = d[5]                    # total number of index in the list d\n",
    "except Exception as e:\n",
    "    print('Handled error ==' +str(e))\n",
    "else:\n",
    "    print (c)\n",
    "print ('Hello World') # if printed now and the numbers given are Ok, it won't give error. If this not done, it will"
   ]
  },
  {
   "cell_type": "code",
   "execution_count": null,
   "metadata": {},
   "outputs": [],
   "source": [
    "try:\n",
    "    a = int(input('Enter a number: '))\n",
    "    b = int(input('Enter a number: '))\n",
    "    c = a/b\n",
    "except Exception as e:\n",
    "    print('Handled error ==' +str(e))\n",
    "else:\n",
    "    print (c)\n",
    "print ('Hello World')\n",
    "#  Still an error is generated eventhough the value given is not wrong."
   ]
  },
  {
   "cell_type": "markdown",
   "metadata": {},
   "source": [
    "# Module "
   ]
  },
  {
   "cell_type": "code",
   "execution_count": null,
   "metadata": {},
   "outputs": [],
   "source": [
    "import math"
   ]
  },
  {
   "cell_type": "code",
   "execution_count": null,
   "metadata": {},
   "outputs": [],
   "source": [
    "math.ceil(4.99)"
   ]
  },
  {
   "cell_type": "code",
   "execution_count": null,
   "metadata": {},
   "outputs": [],
   "source": [
    "# file name of module is always \".py\"\n",
    "#  Jupyter has \".ipy\"\n"
   ]
  },
  {
   "cell_type": "code",
   "execution_count": null,
   "metadata": {},
   "outputs": [],
   "source": [
    "#  If one wants to 'load' a '.py' file in  jupyter < .ipy > \"%\" is used.\n"
   ]
  },
  {
   "cell_type": "code",
   "execution_count": null,
   "metadata": {},
   "outputs": [],
   "source": [
    "# %load mymodule.py\n",
    "def greetings(name):\n",
    "    print(f'Hellow World')\n",
    "    \n",
    "def add(a,b):\n",
    "    \n",
    "    return a+b\n",
    "\n",
    "def sub (a,b):\n",
    "   \n",
    "    return a-b"
   ]
  },
  {
   "cell_type": "code",
   "execution_count": null,
   "metadata": {},
   "outputs": [],
   "source": [
    "import mymodule   #after calling the function, one must first import it."
   ]
  },
  {
   "cell_type": "code",
   "execution_count": null,
   "metadata": {},
   "outputs": [],
   "source": [
    "mymodule.add(3,6)"
   ]
  },
  {
   "cell_type": "code",
   "execution_count": null,
   "metadata": {},
   "outputs": [],
   "source": [
    "mymodule.sub (6,3)"
   ]
  },
  {
   "cell_type": "code",
   "execution_count": null,
   "metadata": {},
   "outputs": [],
   "source": [
    "mymodule.greetings('Tehzeeb')"
   ]
  },
  {
   "cell_type": "code",
   "execution_count": null,
   "metadata": {},
   "outputs": [],
   "source": [
    "# Python crash course<<<< Book reference\n",
    "# Read Chap 'importing classes'\n",
    "\n"
   ]
  },
  {
   "cell_type": "markdown",
   "metadata": {},
   "source": [
    "# CSV File"
   ]
  },
  {
   "cell_type": "markdown",
   "metadata": {},
   "source": [
    "Comma separated values."
   ]
  },
  {
   "cell_type": "code",
   "execution_count": null,
   "metadata": {},
   "outputs": [],
   "source": [
    "# In Data Analysis, max of data is in CSV.\n",
    "#  Before performing certain operations on a file, it is a must to first 'open up the file'."
   ]
  },
  {
   "cell_type": "code",
   "execution_count": null,
   "metadata": {},
   "outputs": [],
   "source": [
    "#  Every data in Excel (Windows) is in CSV. Each value is given in separate spread sheets.\n"
   ]
  },
  {
   "cell_type": "code",
   "execution_count": null,
   "metadata": {},
   "outputs": [],
   "source": [
    "#            PROCEDURe\n",
    "#  create a file with '.CSV' suffix\n",
    "#  add data\n",
    "#  import csv module\n",
    "#  Command1st > with open +('<file nanme>' +,+ <ACTION TO BE PERFORMED (either read r or write w))+ as + variable\n",
    "# using csv module csv.reader coded\n",
    "#  Before printing, for loop is used to fetch data here."
   ]
  },
  {
   "cell_type": "code",
   "execution_count": 9,
   "metadata": {},
   "outputs": [],
   "source": [
    "import csv\n"
   ]
  },
  {
   "cell_type": "code",
   "execution_count": 10,
   "metadata": {},
   "outputs": [
    {
     "name": "stdout",
     "output_type": "stream",
     "text": [
      "<_csv.reader object at 0x7f7a406483c8>\n"
     ]
    }
   ],
   "source": [
    "with open('lastclass.CSV', 'r') as f:\n",
    "    x = csv.reader(f)\n",
    "    print (x)            #data not fetched."
   ]
  },
  {
   "cell_type": "code",
   "execution_count": 12,
   "metadata": {
    "scrolled": true
   },
   "outputs": [
    {
     "name": "stdout",
     "output_type": "stream",
     "text": [
      "['Year', ' Event', ' WInner']\n",
      "['1995', 'Best-kept Lawn', ' None']\n",
      "['2000', ' Best-kept Lawn', ' None']\n"
     ]
    }
   ],
   "source": [
    "with open('lastclass.CSV', 'r') as f:\n",
    "    x = csv.reader(f)\n",
    "    for i in x:               #in order to fetch data.\n",
    "        print (i)       \n",
    "#         in output, data in raws given in file is given here as List,\n"
   ]
  },
  {
   "cell_type": "code",
   "execution_count": 14,
   "metadata": {},
   "outputs": [
    {
     "ename": "FileNotFoundError",
     "evalue": "[Errno 2] No such file or directory: 'zebi.CSV'",
     "output_type": "error",
     "traceback": [
      "\u001b[0;31m---------------------------------------------------------------------------\u001b[0m",
      "\u001b[0;31mFileNotFoundError\u001b[0m                         Traceback (most recent call last)",
      "\u001b[0;32m<ipython-input-14-9d76cc9d6c6f>\u001b[0m in \u001b[0;36m<module>\u001b[0;34m()\u001b[0m\n\u001b[1;32m      1\u001b[0m \u001b[0;31m#  While reading a file, it wasn't created before, error generated.\u001b[0m\u001b[0;34m\u001b[0m\u001b[0;34m\u001b[0m\u001b[0;34m\u001b[0m\u001b[0m\n\u001b[0;32m----> 2\u001b[0;31m \u001b[0;32mwith\u001b[0m \u001b[0mopen\u001b[0m\u001b[0;34m(\u001b[0m\u001b[0;34m'zebi.CSV'\u001b[0m\u001b[0;34m,\u001b[0m \u001b[0;34m'r'\u001b[0m\u001b[0;34m)\u001b[0m \u001b[0;32mas\u001b[0m \u001b[0mf\u001b[0m\u001b[0;34m:\u001b[0m\u001b[0;34m\u001b[0m\u001b[0;34m\u001b[0m\u001b[0m\n\u001b[0m\u001b[1;32m      3\u001b[0m     \u001b[0mx\u001b[0m \u001b[0;34m=\u001b[0m \u001b[0mcsv\u001b[0m\u001b[0;34m.\u001b[0m\u001b[0mreader\u001b[0m\u001b[0;34m(\u001b[0m\u001b[0mf\u001b[0m\u001b[0;34m)\u001b[0m\u001b[0;34m\u001b[0m\u001b[0;34m\u001b[0m\u001b[0m\n\u001b[1;32m      4\u001b[0m     \u001b[0;32mfor\u001b[0m \u001b[0mi\u001b[0m \u001b[0;32min\u001b[0m \u001b[0mx\u001b[0m\u001b[0;34m:\u001b[0m\u001b[0;34m\u001b[0m\u001b[0;34m\u001b[0m\u001b[0m\n\u001b[1;32m      5\u001b[0m         \u001b[0mprint\u001b[0m \u001b[0;34m(\u001b[0m\u001b[0mi\u001b[0m\u001b[0;34m)\u001b[0m\u001b[0;34m\u001b[0m\u001b[0;34m\u001b[0m\u001b[0m\n",
      "\u001b[0;31mFileNotFoundError\u001b[0m: [Errno 2] No such file or directory: 'zebi.CSV'"
     ]
    }
   ],
   "source": [
    "#  While reading a file, it wasn't created before, error generated i.e No such file or directory: 'zebi.CSV'\n",
    "\n",
    "with open('zebi.CSV', 'r') as f:\n",
    "    x = csv.reader(f)\n",
    "    for i in x:             \n",
    "        print (i)  "
   ]
  },
  {
   "cell_type": "code",
   "execution_count": null,
   "metadata": {},
   "outputs": [],
   "source": [
    "#  Using write\n",
    "#  with open function applied. > with open+ ('file name+ .csv+ 'w')+ as+ variable\n",
    "# IF NO FILE WITH GIVEN NAME IS PRESENT, IT WILL CREATE AND WRITE CODE IN IT ( NOT APPLIED IN READ)"
   ]
  },
  {
   "cell_type": "code",
   "execution_count": 16,
   "metadata": {},
   "outputs": [],
   "source": [
    "with open('whatever.csv', 'w', newline=\"\") as f:\n",
    "    data_handler = csv.writer(f, delimiter= ',') #delimiter in sv is comma, can be altered.\n",
    "    data_handler.writerow(['Year', 'Event', 'WInner'])\n",
    "    data_handler.writerow(['1995', 'Best-kept Lawn', ' None'])\n",
    "#     check if any file with this file's name is created in Python Work\n",
    "#  If new data is written here, the prior one would be over-written.\n",
    "#  i.e it will update file not append.\n"
   ]
  },
  {
   "cell_type": "markdown",
   "metadata": {},
   "source": [
    "# JSON File"
   ]
  },
  {
   "cell_type": "markdown",
   "metadata": {},
   "source": [
    "JavaScript Object Notation. It is a kind of data structure. First developed by JavaScrict Developers for the purpose of transfering data ( data in python is in different structure than the one accepted in Data-Base < assumption >\n",
    "(Lists, tupple, dictionaries>> Data structures) E.g, when one clicks on a particular item in DaraZ.pk it will open a new tab (where data is written is server) this shows the travelling of data> called travel Exchange.\n",
    "daraz.pk (written in different language) item ( in different laguage) so data trasfer is not possile (just assume)\n",
    "JSON was later supported by others like Python."
   ]
  },
  {
   "cell_type": "code",
   "execution_count": 17,
   "metadata": {},
   "outputs": [],
   "source": [
    "import json\n",
    "person_1 = {'fname':'David', 'lname':'Watson', 'address': '123c abc street'}"
   ]
  },
  {
   "cell_type": "code",
   "execution_count": 20,
   "metadata": {},
   "outputs": [],
   "source": [
    "with open ('person.json', 'w')as f:\n",
    "    json.dump (person_1, f) #dump = method of module json. #dump> used to insert data in files."
   ]
  },
  {
   "cell_type": "code",
   "execution_count": 21,
   "metadata": {},
   "outputs": [
    {
     "name": "stdout",
     "output_type": "stream",
     "text": [
      "{'fname': 'David', 'lname': 'Watson', 'address': '123c abc street'}\n",
      "<class 'dict'>\n"
     ]
    }
   ],
   "source": [
    "with open (\"person.json\") as f:\n",
    "    x = json.load(f)  #json> load = csv> reader\n",
    "    print (x)\n",
    "    print(type(x))\n",
    "#     load function first converts things in 'ditionary'. In csv it was as 'object'\n",
    "#  type of json is 'dictionary'."
   ]
  },
  {
   "cell_type": "code",
   "execution_count": null,
   "metadata": {},
   "outputs": [],
   "source": []
  }
 ],
 "metadata": {
  "kernelspec": {
   "display_name": "Python 3",
   "language": "python",
   "name": "python3"
  },
  "language_info": {
   "codemirror_mode": {
    "name": "ipython",
    "version": 3
   },
   "file_extension": ".py",
   "mimetype": "text/x-python",
   "name": "python",
   "nbconvert_exporter": "python",
   "pygments_lexer": "ipython3",
   "version": "3.7.3"
  }
 },
 "nbformat": 4,
 "nbformat_minor": 2
}
